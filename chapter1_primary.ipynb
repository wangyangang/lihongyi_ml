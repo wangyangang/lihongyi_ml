{
  "nbformat": 4,
  "nbformat_minor": 0,
  "metadata": {
    "colab": {
      "name": "chapter1_primary.ipynb",
      "provenance": [],
      "collapsed_sections": [],
      "authorship_tag": "ABX9TyNhd3AreLEzuHZXhFeiVgZE",
      "include_colab_link": true
    },
    "kernelspec": {
      "name": "python3",
      "display_name": "Python 3"
    },
    "language_info": {
      "name": "python"
    },
    "accelerator": "GPU"
  },
  "cells": [
    {
      "cell_type": "markdown",
      "metadata": {
        "id": "view-in-github",
        "colab_type": "text"
      },
      "source": [
        "<a href=\"https://colab.research.google.com/github/wangyangang/lihongyi_ml/blob/main/chapter1_primary.ipynb\" target=\"_parent\"><img src=\"https://colab.research.google.com/assets/colab-badge.svg\" alt=\"Open In Colab\"/></a>"
      ]
    },
    {
      "cell_type": "markdown",
      "source": [
        "# 李宏毅机器学习 第一章"
      ],
      "metadata": {
        "id": "jU-rtI6aiQUk"
      }
    },
    {
      "cell_type": "markdown",
      "source": [
        "## 创建Tensor"
      ],
      "metadata": {
        "id": "ttx3tC5PiLWb"
      }
    },
    {
      "cell_type": "code",
      "source": [
        "import torch"
      ],
      "metadata": {
        "id": "Q1t_P0pWiOla"
      },
      "execution_count": 3,
      "outputs": []
    },
    {
      "cell_type": "code",
      "source": [
        "x = torch.tensor([[1, -1], [-1, 1]])\n",
        "x"
      ],
      "metadata": {
        "colab": {
          "base_uri": "https://localhost:8080/"
        },
        "id": "G98avHfKiWfy",
        "outputId": "f336ca15-0146-4f00-ff90-1aa722ef73b5"
      },
      "execution_count": 4,
      "outputs": [
        {
          "output_type": "execute_result",
          "data": {
            "text/plain": [
              "tensor([[ 1, -1],\n",
              "        [-1,  1]])"
            ]
          },
          "metadata": {},
          "execution_count": 4
        }
      ]
    },
    {
      "cell_type": "code",
      "source": [
        "import numpy as np\n",
        "\n",
        "x = torch.from_numpy(np.array([[1, -1], [-1, 1]]))\n",
        "x"
      ],
      "metadata": {
        "colab": {
          "base_uri": "https://localhost:8080/"
        },
        "id": "4BDuRV6LieQo",
        "outputId": "e5132784-15d6-4068-eb6e-a649f67937d4"
      },
      "execution_count": 5,
      "outputs": [
        {
          "output_type": "execute_result",
          "data": {
            "text/plain": [
              "tensor([[ 1, -1],\n",
              "        [-1,  1]])"
            ]
          },
          "metadata": {},
          "execution_count": 5
        }
      ]
    },
    {
      "cell_type": "markdown",
      "source": [
        "### 创建全为0的tensor"
      ],
      "metadata": {
        "id": "xn_skknIi-WF"
      }
    },
    {
      "cell_type": "code",
      "source": [
        "x = torch.zeros([2, 2])\n",
        "x"
      ],
      "metadata": {
        "colab": {
          "base_uri": "https://localhost:8080/"
        },
        "id": "XWqUMmk2it4e",
        "outputId": "c18986ef-1f8a-462c-9bc4-5a4f4edd0075"
      },
      "execution_count": 6,
      "outputs": [
        {
          "output_type": "execute_result",
          "data": {
            "text/plain": [
              "tensor([[0., 0.],\n",
              "        [0., 0.]])"
            ]
          },
          "metadata": {},
          "execution_count": 6
        }
      ]
    },
    {
      "cell_type": "code",
      "source": [
        "x = torch.ones([1, 2, 5])\n",
        "x"
      ],
      "metadata": {
        "colab": {
          "base_uri": "https://localhost:8080/"
        },
        "id": "zy4Cd5_QjKIE",
        "outputId": "d966da81-819d-4469-cec4-b8c8f9fa56d7"
      },
      "execution_count": 7,
      "outputs": [
        {
          "output_type": "execute_result",
          "data": {
            "text/plain": [
              "tensor([[[1., 1., 1., 1., 1.],\n",
              "         [1., 1., 1., 1., 1.]]])"
            ]
          },
          "metadata": {},
          "execution_count": 7
        }
      ]
    },
    {
      "cell_type": "code",
      "source": [
        "## 基本运算\n",
        "x = torch.ones([2, 3])\n",
        "y = torch.tensor([[1, 2, 3], [4, 5, 6]])\n",
        "x"
      ],
      "metadata": {
        "colab": {
          "base_uri": "https://localhost:8080/"
        },
        "id": "oHjrDhYTjOzR",
        "outputId": "76229ef2-1741-453b-fe8d-dab1cddb82a1"
      },
      "execution_count": 8,
      "outputs": [
        {
          "output_type": "execute_result",
          "data": {
            "text/plain": [
              "tensor([[1., 1., 1.],\n",
              "        [1., 1., 1.]])"
            ]
          },
          "metadata": {},
          "execution_count": 8
        }
      ]
    },
    {
      "cell_type": "code",
      "source": [
        "y"
      ],
      "metadata": {
        "colab": {
          "base_uri": "https://localhost:8080/"
        },
        "id": "4_-c2xKhjqym",
        "outputId": "e38bf014-174d-43ba-f41b-8c6953d9c36a"
      },
      "execution_count": 9,
      "outputs": [
        {
          "output_type": "execute_result",
          "data": {
            "text/plain": [
              "tensor([[1, 2, 3],\n",
              "        [4, 5, 6]])"
            ]
          },
          "metadata": {},
          "execution_count": 9
        }
      ]
    },
    {
      "cell_type": "code",
      "source": [
        "## 加法\n",
        "x + y"
      ],
      "metadata": {
        "colab": {
          "base_uri": "https://localhost:8080/"
        },
        "id": "docwOK11jr40",
        "outputId": "37d0a325-957f-4caa-d230-970c32dc8afd"
      },
      "execution_count": 10,
      "outputs": [
        {
          "output_type": "execute_result",
          "data": {
            "text/plain": [
              "tensor([[2., 3., 4.],\n",
              "        [5., 6., 7.]])"
            ]
          },
          "metadata": {},
          "execution_count": 10
        }
      ]
    },
    {
      "cell_type": "code",
      "source": [
        "## 减法\n",
        "x - y"
      ],
      "metadata": {
        "colab": {
          "base_uri": "https://localhost:8080/"
        },
        "id": "Ky2heRdujwTs",
        "outputId": "dfaf3c5f-de8a-411b-9987-8d2733c8d54d"
      },
      "execution_count": 11,
      "outputs": [
        {
          "output_type": "execute_result",
          "data": {
            "text/plain": [
              "tensor([[ 0., -1., -2.],\n",
              "        [-3., -4., -5.]])"
            ]
          },
          "metadata": {},
          "execution_count": 11
        }
      ]
    },
    {
      "cell_type": "code",
      "source": [
        "## pow(平方)\n",
        "x.pow(2)"
      ],
      "metadata": {
        "colab": {
          "base_uri": "https://localhost:8080/"
        },
        "id": "XJdAOv2Hj0_E",
        "outputId": "75fd5b8a-208b-4e9a-fb6d-512fc2aa4e17"
      },
      "execution_count": 12,
      "outputs": [
        {
          "output_type": "execute_result",
          "data": {
            "text/plain": [
              "tensor([[1., 1., 1.],\n",
              "        [1., 1., 1.]])"
            ]
          },
          "metadata": {},
          "execution_count": 12
        }
      ]
    },
    {
      "cell_type": "code",
      "source": [
        "y.pow(2)"
      ],
      "metadata": {
        "colab": {
          "base_uri": "https://localhost:8080/"
        },
        "id": "I9CKZ9GEj9Hr",
        "outputId": "693abbcf-544a-475f-d3eb-167130949e14"
      },
      "execution_count": 13,
      "outputs": [
        {
          "output_type": "execute_result",
          "data": {
            "text/plain": [
              "tensor([[ 1,  4,  9],\n",
              "        [16, 25, 36]])"
            ]
          },
          "metadata": {},
          "execution_count": 13
        }
      ]
    },
    {
      "cell_type": "code",
      "source": [
        "# sum\n",
        "x.sum()"
      ],
      "metadata": {
        "colab": {
          "base_uri": "https://localhost:8080/"
        },
        "id": "9aRH_aWij_cb",
        "outputId": "8b0c9874-43ca-4a5a-d510-1c744ed80b99"
      },
      "execution_count": 14,
      "outputs": [
        {
          "output_type": "execute_result",
          "data": {
            "text/plain": [
              "tensor(6.)"
            ]
          },
          "metadata": {},
          "execution_count": 14
        }
      ]
    },
    {
      "cell_type": "code",
      "source": [
        "y.sum()"
      ],
      "metadata": {
        "colab": {
          "base_uri": "https://localhost:8080/"
        },
        "id": "aLefNx8-kOMq",
        "outputId": "d3a99f1a-261e-47f5-a8ec-244d62bf634b"
      },
      "execution_count": 15,
      "outputs": [
        {
          "output_type": "execute_result",
          "data": {
            "text/plain": [
              "tensor(21)"
            ]
          },
          "metadata": {},
          "execution_count": 15
        }
      ]
    },
    {
      "cell_type": "code",
      "source": [
        "# mean\n",
        "x.mean()"
      ],
      "metadata": {
        "colab": {
          "base_uri": "https://localhost:8080/"
        },
        "id": "5dAEugx_kPn4",
        "outputId": "fff29b63-c3ca-4c66-c3e5-3398d2dac4fe"
      },
      "execution_count": 16,
      "outputs": [
        {
          "output_type": "execute_result",
          "data": {
            "text/plain": [
              "tensor(1.)"
            ]
          },
          "metadata": {},
          "execution_count": 16
        }
      ]
    },
    {
      "cell_type": "code",
      "source": [
        "# y.mean()会报错，搜了一下说改为torch.Tensor()进行创建就可以。\n",
        "torch.Tensor([1, 2]).mean()"
      ],
      "metadata": {
        "colab": {
          "base_uri": "https://localhost:8080/"
        },
        "id": "ah4RBskRkSYA",
        "outputId": "c97fd784-59e6-4340-d9fb-9c88e283a45b"
      },
      "execution_count": 17,
      "outputs": [
        {
          "output_type": "execute_result",
          "data": {
            "text/plain": [
              "tensor(1.5000)"
            ]
          },
          "metadata": {},
          "execution_count": 17
        }
      ]
    },
    {
      "cell_type": "code",
      "source": [
        "# 转置\n",
        "x"
      ],
      "metadata": {
        "colab": {
          "base_uri": "https://localhost:8080/"
        },
        "id": "PkDWvNYHkTgg",
        "outputId": "26e384a2-6ed6-4d4a-f6e3-ce19e6ba0a5a"
      },
      "execution_count": 18,
      "outputs": [
        {
          "output_type": "execute_result",
          "data": {
            "text/plain": [
              "tensor([[1., 1., 1.],\n",
              "        [1., 1., 1.]])"
            ]
          },
          "metadata": {},
          "execution_count": 18
        }
      ]
    },
    {
      "cell_type": "code",
      "source": [
        "# 第0个维度和第一个维度进行互换\n",
        "x.transpose(0, 1)"
      ],
      "metadata": {
        "colab": {
          "base_uri": "https://localhost:8080/"
        },
        "id": "fE8hozsymAwS",
        "outputId": "79ee87ab-1eb3-44f4-ca8b-32f5ecff20f5"
      },
      "execution_count": 19,
      "outputs": [
        {
          "output_type": "execute_result",
          "data": {
            "text/plain": [
              "tensor([[1., 1.],\n",
              "        [1., 1.],\n",
              "        [1., 1.]])"
            ]
          },
          "metadata": {},
          "execution_count": 19
        }
      ]
    },
    {
      "cell_type": "code",
      "source": [
        "x.shape"
      ],
      "metadata": {
        "colab": {
          "base_uri": "https://localhost:8080/"
        },
        "id": "5siG47XPmC0Z",
        "outputId": "466ec89e-d568-4244-e4cc-4a5f23907f5d"
      },
      "execution_count": 20,
      "outputs": [
        {
          "output_type": "execute_result",
          "data": {
            "text/plain": [
              "torch.Size([2, 3])"
            ]
          },
          "metadata": {},
          "execution_count": 20
        }
      ]
    },
    {
      "cell_type": "code",
      "source": [
        "x.transpose(0, 1).shape"
      ],
      "metadata": {
        "colab": {
          "base_uri": "https://localhost:8080/"
        },
        "id": "YlAPbQNKmKMY",
        "outputId": "bffde22d-2a75-4389-9436-8cd54898723c"
      },
      "execution_count": 21,
      "outputs": [
        {
          "output_type": "execute_result",
          "data": {
            "text/plain": [
              "torch.Size([3, 2])"
            ]
          },
          "metadata": {},
          "execution_count": 21
        }
      ]
    },
    {
      "cell_type": "code",
      "source": [
        "# 移除某个维度\n",
        "x = torch.zeros([1, 2, 3])\n",
        "x"
      ],
      "metadata": {
        "colab": {
          "base_uri": "https://localhost:8080/"
        },
        "id": "4HfQ9VaamNSQ",
        "outputId": "105f46a6-aacf-4ab1-bfa3-7ac5f4bd6a05"
      },
      "execution_count": 22,
      "outputs": [
        {
          "output_type": "execute_result",
          "data": {
            "text/plain": [
              "tensor([[[0., 0., 0.],\n",
              "         [0., 0., 0.]]])"
            ]
          },
          "metadata": {},
          "execution_count": 22
        }
      ]
    },
    {
      "cell_type": "code",
      "source": [
        "x.shape"
      ],
      "metadata": {
        "colab": {
          "base_uri": "https://localhost:8080/"
        },
        "id": "pziyhxkumlVU",
        "outputId": "9d591e34-ba3b-40fc-9ac2-1bc4add2b022"
      },
      "execution_count": 23,
      "outputs": [
        {
          "output_type": "execute_result",
          "data": {
            "text/plain": [
              "torch.Size([1, 2, 3])"
            ]
          },
          "metadata": {},
          "execution_count": 23
        }
      ]
    },
    {
      "cell_type": "code",
      "source": [
        "x = x.squeeze(0)\n",
        "x"
      ],
      "metadata": {
        "colab": {
          "base_uri": "https://localhost:8080/"
        },
        "id": "Iy1X4kt8mnIG",
        "outputId": "b89aec33-e708-48dd-f801-549bcce90062"
      },
      "execution_count": 24,
      "outputs": [
        {
          "output_type": "execute_result",
          "data": {
            "text/plain": [
              "tensor([[0., 0., 0.],\n",
              "        [0., 0., 0.]])"
            ]
          },
          "metadata": {},
          "execution_count": 24
        }
      ]
    },
    {
      "cell_type": "code",
      "source": [
        "x.shape"
      ],
      "metadata": {
        "colab": {
          "base_uri": "https://localhost:8080/"
        },
        "id": "abuN3ySbmqTG",
        "outputId": "7edf6309-26b1-42e0-9bb2-2bc8fc0db4db"
      },
      "execution_count": 25,
      "outputs": [
        {
          "output_type": "execute_result",
          "data": {
            "text/plain": [
              "torch.Size([2, 3])"
            ]
          },
          "metadata": {},
          "execution_count": 25
        }
      ]
    },
    {
      "cell_type": "code",
      "source": [
        "# 加一个维度\n",
        "x = torch.zeros([2, 3])\n",
        "x"
      ],
      "metadata": {
        "colab": {
          "base_uri": "https://localhost:8080/"
        },
        "id": "LB2uwAuNm2Oi",
        "outputId": "9284f440-6fae-4744-c987-c12cb74736d0"
      },
      "execution_count": 26,
      "outputs": [
        {
          "output_type": "execute_result",
          "data": {
            "text/plain": [
              "tensor([[0., 0., 0.],\n",
              "        [0., 0., 0.]])"
            ]
          },
          "metadata": {},
          "execution_count": 26
        }
      ]
    },
    {
      "cell_type": "code",
      "source": [
        "x.shape"
      ],
      "metadata": {
        "colab": {
          "base_uri": "https://localhost:8080/"
        },
        "id": "oyAWweLnnbe9",
        "outputId": "c4c7c32f-1f65-44bd-f650-c6edd61881b8"
      },
      "execution_count": 27,
      "outputs": [
        {
          "output_type": "execute_result",
          "data": {
            "text/plain": [
              "torch.Size([2, 3])"
            ]
          },
          "metadata": {},
          "execution_count": 27
        }
      ]
    },
    {
      "cell_type": "code",
      "source": [
        "x = x.unsqueeze(1)\n",
        "x"
      ],
      "metadata": {
        "colab": {
          "base_uri": "https://localhost:8080/"
        },
        "id": "XsthFvMEneym",
        "outputId": "772b6572-4cf1-4372-fb42-7b45f93cd7a4"
      },
      "execution_count": 28,
      "outputs": [
        {
          "output_type": "execute_result",
          "data": {
            "text/plain": [
              "tensor([[[0., 0., 0.]],\n",
              "\n",
              "        [[0., 0., 0.]]])"
            ]
          },
          "metadata": {},
          "execution_count": 28
        }
      ]
    },
    {
      "cell_type": "code",
      "source": [
        "x.shape"
      ],
      "metadata": {
        "colab": {
          "base_uri": "https://localhost:8080/"
        },
        "id": "6oWS-69-nk6E",
        "outputId": "23072e31-8e80-47fa-e67e-a69ba7aefcb6"
      },
      "execution_count": 29,
      "outputs": [
        {
          "output_type": "execute_result",
          "data": {
            "text/plain": [
              "torch.Size([2, 1, 3])"
            ]
          },
          "metadata": {},
          "execution_count": 29
        }
      ]
    },
    {
      "cell_type": "code",
      "source": [
        "# 合并tansor\n",
        "x = torch.zeros([2, 1, 3])\n",
        "x"
      ],
      "metadata": {
        "colab": {
          "base_uri": "https://localhost:8080/"
        },
        "id": "8-fGP-TUnrFc",
        "outputId": "69e1c1a2-456d-49e9-bf3c-336b6c666b2e"
      },
      "execution_count": 30,
      "outputs": [
        {
          "output_type": "execute_result",
          "data": {
            "text/plain": [
              "tensor([[[0., 0., 0.]],\n",
              "\n",
              "        [[0., 0., 0.]]])"
            ]
          },
          "metadata": {},
          "execution_count": 30
        }
      ]
    },
    {
      "cell_type": "code",
      "source": [
        "y = torch.zeros([2, 2, 3])\n",
        "y"
      ],
      "metadata": {
        "colab": {
          "base_uri": "https://localhost:8080/"
        },
        "id": "bwgAHEsqoHcA",
        "outputId": "3b26f3a3-5a2f-46aa-e26d-2782218feb91"
      },
      "execution_count": 31,
      "outputs": [
        {
          "output_type": "execute_result",
          "data": {
            "text/plain": [
              "tensor([[[0., 0., 0.],\n",
              "         [0., 0., 0.]],\n",
              "\n",
              "        [[0., 0., 0.],\n",
              "         [0., 0., 0.]]])"
            ]
          },
          "metadata": {},
          "execution_count": 31
        }
      ]
    },
    {
      "cell_type": "code",
      "source": [
        "z = torch.zeros([2, 3, 3])\n",
        "z"
      ],
      "metadata": {
        "colab": {
          "base_uri": "https://localhost:8080/"
        },
        "id": "F5e5DC_7oLEx",
        "outputId": "0da137b3-e7cf-4d40-e97e-9e1e364d1f5d"
      },
      "execution_count": 32,
      "outputs": [
        {
          "output_type": "execute_result",
          "data": {
            "text/plain": [
              "tensor([[[0., 0., 0.],\n",
              "         [0., 0., 0.],\n",
              "         [0., 0., 0.]],\n",
              "\n",
              "        [[0., 0., 0.],\n",
              "         [0., 0., 0.],\n",
              "         [0., 0., 0.]]])"
            ]
          },
          "metadata": {},
          "execution_count": 32
        }
      ]
    },
    {
      "cell_type": "code",
      "source": [
        "w = torch.cat([x, y, z], dim=1)\n",
        "w"
      ],
      "metadata": {
        "colab": {
          "base_uri": "https://localhost:8080/"
        },
        "id": "tD8RpdxGoNfX",
        "outputId": "e59fdc9f-0e9a-42ec-8741-caedb9d546a7"
      },
      "execution_count": 33,
      "outputs": [
        {
          "output_type": "execute_result",
          "data": {
            "text/plain": [
              "tensor([[[0., 0., 0.],\n",
              "         [0., 0., 0.],\n",
              "         [0., 0., 0.],\n",
              "         [0., 0., 0.],\n",
              "         [0., 0., 0.],\n",
              "         [0., 0., 0.]],\n",
              "\n",
              "        [[0., 0., 0.],\n",
              "         [0., 0., 0.],\n",
              "         [0., 0., 0.],\n",
              "         [0., 0., 0.],\n",
              "         [0., 0., 0.],\n",
              "         [0., 0., 0.]]])"
            ]
          },
          "metadata": {},
          "execution_count": 33
        }
      ]
    },
    {
      "cell_type": "code",
      "source": [
        "w.shape"
      ],
      "metadata": {
        "colab": {
          "base_uri": "https://localhost:8080/"
        },
        "id": "XqwMPq1XoU_2",
        "outputId": "8580af77-eb82-4c3e-d103-02c9d98ef254"
      },
      "execution_count": 34,
      "outputs": [
        {
          "output_type": "execute_result",
          "data": {
            "text/plain": [
              "torch.Size([2, 6, 3])"
            ]
          },
          "metadata": {},
          "execution_count": 34
        }
      ]
    },
    {
      "cell_type": "markdown",
      "source": [
        "示例如下："
      ],
      "metadata": {
        "id": "VU2bAXvAo7pr"
      }
    },
    {
      "cell_type": "markdown",
      "source": [
        "![tensor_concat.jpg](data:image/jpeg;base64,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)"
      ],
      "metadata": {
        "id": "JLjIzHgooicW"
      }
    },
    {
      "cell_type": "code",
      "source": [
        "# 查看数据类型\n",
        "x.dtype"
      ],
      "metadata": {
        "colab": {
          "base_uri": "https://localhost:8080/"
        },
        "id": "SQHzrXgJoXLW",
        "outputId": "1fdec9a9-55bb-42a5-e3b3-024802cb59da"
      },
      "execution_count": 35,
      "outputs": [
        {
          "output_type": "execute_result",
          "data": {
            "text/plain": [
              "torch.float32"
            ]
          },
          "metadata": {},
          "execution_count": 35
        }
      ]
    },
    {
      "cell_type": "code",
      "source": [
        "y.dtype"
      ],
      "metadata": {
        "colab": {
          "base_uri": "https://localhost:8080/"
        },
        "id": "4KdBLmSKpa7m",
        "outputId": "24e13526-ee18-4501-8388-59f07a6f7684"
      },
      "execution_count": 36,
      "outputs": [
        {
          "output_type": "execute_result",
          "data": {
            "text/plain": [
              "torch.float32"
            ]
          },
          "metadata": {},
          "execution_count": 36
        }
      ]
    },
    {
      "cell_type": "code",
      "source": [
        "# 移到cpu\n",
        "# x = x.to('cpu')\n",
        "# 移到gpu\n",
        "# x = x.to('cuda')"
      ],
      "metadata": {
        "id": "S3R0LWhapeyU"
      },
      "execution_count": 37,
      "outputs": []
    },
    {
      "cell_type": "code",
      "source": [
        "# 检查GPU是否可用\n",
        "torch.cuda.is_available()"
      ],
      "metadata": {
        "colab": {
          "base_uri": "https://localhost:8080/"
        },
        "id": "dRPaCyMDpw9y",
        "outputId": "8306867c-c352-4248-d832-a383652b6189"
      },
      "execution_count": 38,
      "outputs": [
        {
          "output_type": "execute_result",
          "data": {
            "text/plain": [
              "True"
            ]
          },
          "metadata": {},
          "execution_count": 38
        }
      ]
    },
    {
      "cell_type": "code",
      "source": [
        "# 计算梯度\n",
        "x = torch.tensor([[1., 0.], [-1., 1.]], requires_grad=True)\n",
        "z = x.pow(2).sum()\n",
        "z.backward()\n",
        "x.grad"
      ],
      "metadata": {
        "colab": {
          "base_uri": "https://localhost:8080/"
        },
        "id": "PxSDgXozqLAo",
        "outputId": "40fabd7c-f04a-4e1a-8bf7-65ffdabab1c3"
      },
      "execution_count": 40,
      "outputs": [
        {
          "output_type": "execute_result",
          "data": {
            "text/plain": [
              "tensor([[ 2.,  0.],\n",
              "        [-2.,  2.]])"
            ]
          },
          "metadata": {},
          "execution_count": 40
        }
      ]
    },
    {
      "cell_type": "code",
      "source": [
        "# torch.nn - Network Parameters\n",
        "# Linear Layer(Fully connected layer)\n",
        "layer = torch.nn.Linear(32, 64)\n",
        "layer.weight.shape"
      ],
      "metadata": {
        "colab": {
          "base_uri": "https://localhost:8080/"
        },
        "id": "oBrndw0kFLiG",
        "outputId": "96938836-97c9-45d1-cbbd-80ff743055b6"
      },
      "execution_count": 42,
      "outputs": [
        {
          "output_type": "execute_result",
          "data": {
            "text/plain": [
              "torch.Size([64, 32])"
            ]
          },
          "metadata": {},
          "execution_count": 42
        }
      ]
    },
    {
      "cell_type": "code",
      "source": [
        "layer.bias.shape"
      ],
      "metadata": {
        "colab": {
          "base_uri": "https://localhost:8080/"
        },
        "id": "iaOFUUiiGcrz",
        "outputId": "595786ff-f083-41a0-f59e-97bd68a61f2e"
      },
      "execution_count": 44,
      "outputs": [
        {
          "output_type": "execute_result",
          "data": {
            "text/plain": [
              "torch.Size([64])"
            ]
          },
          "metadata": {},
          "execution_count": 44
        }
      ]
    },
    {
      "cell_type": "code",
      "source": [
        "# torch.nn - Build your own neural network\n",
        "import torch.nn as nn\n",
        "\n",
        "class MyModel(nn.Module):\n",
        "  def __init__(self):\n",
        "    super().__init__()\n",
        "    self.net = nn.Sequential(\n",
        "        nn.Linear(10, 32),\n",
        "        nn.Sigmod(),\n",
        "        nn.Linear(32, 1)\n",
        "    )\n",
        "  def forward(self, x):\n",
        "    return self.net(x)\n",
        "\n",
        "class MyModel(nn.Module):\n",
        "  def __init__(self):\n",
        "    super().__init__()\n",
        "    self.layer1 = nn.Linear(10, 32)\n",
        "    self.layer2 = nn.Sigmod()\n",
        "    self.layer3 = nn.Linear(32, 1)\n",
        "\n",
        "  def forward(self, x):\n",
        "    out = self.layer1(x)\n",
        "    out = self.layer2(out)\n",
        "    out = self.layer3(out)\n",
        "    return out\n"
      ],
      "metadata": {
        "id": "FFTqbwjVGj7Z"
      },
      "execution_count": 45,
      "outputs": []
    },
    {
      "cell_type": "code",
      "source": [
        "## 常用的Loss Function\n",
        "### Mean Squared Error(for regression tasks)\n",
        "criterion = nn.MSELoss()"
      ],
      "metadata": {
        "id": "c633XYcjI14K"
      },
      "execution_count": 46,
      "outputs": []
    },
    {
      "cell_type": "code",
      "source": [
        "### Cross Entropy(for classification tasks)\n",
        "criterion = nn.CrossEntropyLoss()"
      ],
      "metadata": {
        "id": "OMgdirWaJGa8"
      },
      "execution_count": 47,
      "outputs": []
    },
    {
      "cell_type": "code",
      "source": [
        "## loss = criterion(model_output, expected_value)"
      ],
      "metadata": {
        "id": "c4ZAI835JSYz"
      },
      "execution_count": 48,
      "outputs": []
    },
    {
      "cell_type": "code",
      "source": [
        ""
      ],
      "metadata": {
        "id": "zeMXCdfKJhax"
      },
      "execution_count": null,
      "outputs": []
    }
  ]
}